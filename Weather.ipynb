{
 "cells": [
  {
   "cell_type": "markdown",
   "metadata": {},
   "source": [
    "## Name : Madhapur Vineelaswathi\n",
    "## ID : 108998406"
   ]
  },
  {
   "cell_type": "markdown",
   "metadata": {},
   "source": [
    "Loading the dataset"
   ]
  },
  {
   "cell_type": "code",
   "execution_count": 1,
   "metadata": {},
   "outputs": [],
   "source": [
    "import seaborn as sns\n",
    "sns.set_style(\"whitegrid\")\n",
    "sns.set_context(\"notebook\", font_scale=1, rc={\"lines.linewidth\": 2,'font.family': [u'times']})\n",
    "import numpy as np\n",
    "import matplotlib.pylab as plt\n",
    "%matplotlib inline \n",
    "import pandas as pd\n",
    "from sklearn import datasets"
   ]
  },
  {
   "cell_type": "code",
   "execution_count": 2,
   "metadata": {},
   "outputs": [
    {
     "data": {
      "text/html": [
       "<div>\n",
       "<style scoped>\n",
       "    .dataframe tbody tr th:only-of-type {\n",
       "        vertical-align: middle;\n",
       "    }\n",
       "\n",
       "    .dataframe tbody tr th {\n",
       "        vertical-align: top;\n",
       "    }\n",
       "\n",
       "    .dataframe thead th {\n",
       "        text-align: right;\n",
       "    }\n",
       "</style>\n",
       "<table border=\"1\" class=\"dataframe\">\n",
       "  <thead>\n",
       "    <tr style=\"text-align: right;\">\n",
       "      <th></th>\n",
       "      <th>Date Time</th>\n",
       "      <th>Temperature (degC)</th>\n",
       "      <th>Pressure (mbar)</th>\n",
       "      <th>Tdew (degC)</th>\n",
       "      <th>rh (%)</th>\n",
       "      <th>VPdef (mbar)</th>\n",
       "      <th>sh (g/kg)</th>\n",
       "      <th>H2OC (mmol/mol)</th>\n",
       "      <th>rho (g/m**3)</th>\n",
       "      <th>wv (m/s)</th>\n",
       "      <th>max. wv (m/s)</th>\n",
       "      <th>wd (deg)</th>\n",
       "    </tr>\n",
       "  </thead>\n",
       "  <tbody>\n",
       "    <tr>\n",
       "      <th>0</th>\n",
       "      <td>01.01.2009 00:10:00</td>\n",
       "      <td>-8.02</td>\n",
       "      <td>996.52</td>\n",
       "      <td>-8.90</td>\n",
       "      <td>93.3</td>\n",
       "      <td>0.22</td>\n",
       "      <td>1.94</td>\n",
       "      <td>3.12</td>\n",
       "      <td>1307.75</td>\n",
       "      <td>1.03</td>\n",
       "      <td>1.75</td>\n",
       "      <td>152.3</td>\n",
       "    </tr>\n",
       "    <tr>\n",
       "      <th>1</th>\n",
       "      <td>01.01.2009 00:20:00</td>\n",
       "      <td>-8.41</td>\n",
       "      <td>996.57</td>\n",
       "      <td>-9.28</td>\n",
       "      <td>93.4</td>\n",
       "      <td>0.21</td>\n",
       "      <td>1.89</td>\n",
       "      <td>3.03</td>\n",
       "      <td>1309.80</td>\n",
       "      <td>0.72</td>\n",
       "      <td>1.50</td>\n",
       "      <td>136.1</td>\n",
       "    </tr>\n",
       "    <tr>\n",
       "      <th>2</th>\n",
       "      <td>01.01.2009 00:30:00</td>\n",
       "      <td>-8.51</td>\n",
       "      <td>996.53</td>\n",
       "      <td>-9.31</td>\n",
       "      <td>93.9</td>\n",
       "      <td>0.20</td>\n",
       "      <td>1.88</td>\n",
       "      <td>3.02</td>\n",
       "      <td>1310.24</td>\n",
       "      <td>0.19</td>\n",
       "      <td>0.63</td>\n",
       "      <td>171.6</td>\n",
       "    </tr>\n",
       "    <tr>\n",
       "      <th>3</th>\n",
       "      <td>01.01.2009 00:40:00</td>\n",
       "      <td>-8.31</td>\n",
       "      <td>996.51</td>\n",
       "      <td>-9.07</td>\n",
       "      <td>94.2</td>\n",
       "      <td>0.19</td>\n",
       "      <td>1.92</td>\n",
       "      <td>3.08</td>\n",
       "      <td>1309.19</td>\n",
       "      <td>0.34</td>\n",
       "      <td>0.50</td>\n",
       "      <td>198.0</td>\n",
       "    </tr>\n",
       "    <tr>\n",
       "      <th>4</th>\n",
       "      <td>01.01.2009 00:50:00</td>\n",
       "      <td>-8.27</td>\n",
       "      <td>996.51</td>\n",
       "      <td>-9.04</td>\n",
       "      <td>94.1</td>\n",
       "      <td>0.19</td>\n",
       "      <td>1.92</td>\n",
       "      <td>3.09</td>\n",
       "      <td>1309.00</td>\n",
       "      <td>0.32</td>\n",
       "      <td>0.63</td>\n",
       "      <td>214.3</td>\n",
       "    </tr>\n",
       "  </tbody>\n",
       "</table>\n",
       "</div>"
      ],
      "text/plain": [
       "             Date Time  Temperature (degC)  Pressure (mbar)  Tdew (degC)  \\\n",
       "0  01.01.2009 00:10:00               -8.02           996.52        -8.90   \n",
       "1  01.01.2009 00:20:00               -8.41           996.57        -9.28   \n",
       "2  01.01.2009 00:30:00               -8.51           996.53        -9.31   \n",
       "3  01.01.2009 00:40:00               -8.31           996.51        -9.07   \n",
       "4  01.01.2009 00:50:00               -8.27           996.51        -9.04   \n",
       "\n",
       "   rh (%)  VPdef (mbar)  sh (g/kg)  H2OC (mmol/mol)  rho (g/m**3)  wv (m/s)  \\\n",
       "0    93.3          0.22       1.94             3.12       1307.75      1.03   \n",
       "1    93.4          0.21       1.89             3.03       1309.80      0.72   \n",
       "2    93.9          0.20       1.88             3.02       1310.24      0.19   \n",
       "3    94.2          0.19       1.92             3.08       1309.19      0.34   \n",
       "4    94.1          0.19       1.92             3.09       1309.00      0.32   \n",
       "\n",
       "   max. wv (m/s)  wd (deg)  \n",
       "0           1.75     152.3  \n",
       "1           1.50     136.1  \n",
       "2           0.63     171.6  \n",
       "3           0.50     198.0  \n",
       "4           0.63     214.3  "
      ]
     },
     "execution_count": 2,
     "metadata": {},
     "output_type": "execute_result"
    }
   ],
   "source": [
    "newdf=pd.read_csv(\"Weather_2009_2016.csv\")\n",
    "newdf.head()"
   ]
  },
  {
   "cell_type": "markdown",
   "metadata": {},
   "source": [
    "# <font color=orange>1.Calculating Linear Regression</font>"
   ]
  },
  {
   "cell_type": "markdown",
   "metadata": {},
   "source": [
    "here we are supposed to calculate more than one predictor\n",
    "\n",
    "                    𝐲=𝑐+𝑎1𝐱1+⋯+𝑎10𝐱10"
   ]
  },
  {
   "cell_type": "code",
   "execution_count": 4,
   "metadata": {},
   "outputs": [
    {
     "data": {
      "text/html": [
       "<div>\n",
       "<style scoped>\n",
       "    .dataframe tbody tr th:only-of-type {\n",
       "        vertical-align: middle;\n",
       "    }\n",
       "\n",
       "    .dataframe tbody tr th {\n",
       "        vertical-align: top;\n",
       "    }\n",
       "\n",
       "    .dataframe thead th {\n",
       "        text-align: right;\n",
       "    }\n",
       "</style>\n",
       "<table border=\"1\" class=\"dataframe\">\n",
       "  <thead>\n",
       "    <tr style=\"text-align: right;\">\n",
       "      <th></th>\n",
       "      <th>Temperature (degC)</th>\n",
       "      <th>Pressure (mbar)</th>\n",
       "      <th>Tdew (degC)</th>\n",
       "      <th>rh (%)</th>\n",
       "      <th>VPdef (mbar)</th>\n",
       "      <th>sh (g/kg)</th>\n",
       "      <th>H2OC (mmol/mol)</th>\n",
       "      <th>rho (g/m**3)</th>\n",
       "      <th>wv (m/s)</th>\n",
       "      <th>max. wv (m/s)</th>\n",
       "      <th>wd (deg)</th>\n",
       "    </tr>\n",
       "  </thead>\n",
       "  <tbody>\n",
       "    <tr>\n",
       "      <th>count</th>\n",
       "      <td>336440.000000</td>\n",
       "      <td>336440.000000</td>\n",
       "      <td>336440.000000</td>\n",
       "      <td>336440.000000</td>\n",
       "      <td>336440.000000</td>\n",
       "      <td>336440.000000</td>\n",
       "      <td>336440.000000</td>\n",
       "      <td>336440.000000</td>\n",
       "      <td>336440.000000</td>\n",
       "      <td>336440.000000</td>\n",
       "      <td>336440.000000</td>\n",
       "    </tr>\n",
       "    <tr>\n",
       "      <th>mean</th>\n",
       "      <td>9.446557</td>\n",
       "      <td>989.223403</td>\n",
       "      <td>4.950543</td>\n",
       "      <td>76.003139</td>\n",
       "      <td>4.043761</td>\n",
       "      <td>6.020227</td>\n",
       "      <td>9.636744</td>\n",
       "      <td>1216.093556</td>\n",
       "      <td>1.624439</td>\n",
       "      <td>2.996377</td>\n",
       "      <td>174.745310</td>\n",
       "    </tr>\n",
       "    <tr>\n",
       "      <th>std</th>\n",
       "      <td>8.426450</td>\n",
       "      <td>8.358900</td>\n",
       "      <td>6.731364</td>\n",
       "      <td>16.487523</td>\n",
       "      <td>4.899227</td>\n",
       "      <td>2.655262</td>\n",
       "      <td>4.234012</td>\n",
       "      <td>39.984531</td>\n",
       "      <td>71.106856</td>\n",
       "      <td>73.198718</td>\n",
       "      <td>86.700237</td>\n",
       "    </tr>\n",
       "    <tr>\n",
       "      <th>min</th>\n",
       "      <td>-23.010000</td>\n",
       "      <td>913.600000</td>\n",
       "      <td>-25.010000</td>\n",
       "      <td>12.950000</td>\n",
       "      <td>0.000000</td>\n",
       "      <td>0.500000</td>\n",
       "      <td>0.800000</td>\n",
       "      <td>1059.450000</td>\n",
       "      <td>-9999.000000</td>\n",
       "      <td>-9999.000000</td>\n",
       "      <td>0.000000</td>\n",
       "    </tr>\n",
       "    <tr>\n",
       "      <th>25%</th>\n",
       "      <td>3.350000</td>\n",
       "      <td>984.210000</td>\n",
       "      <td>0.230000</td>\n",
       "      <td>65.190000</td>\n",
       "      <td>0.870000</td>\n",
       "      <td>3.920000</td>\n",
       "      <td>6.280000</td>\n",
       "      <td>1187.510000</td>\n",
       "      <td>0.990000</td>\n",
       "      <td>1.760000</td>\n",
       "      <td>124.800000</td>\n",
       "    </tr>\n",
       "    <tr>\n",
       "      <th>50%</th>\n",
       "      <td>9.420000</td>\n",
       "      <td>989.590000</td>\n",
       "      <td>5.210000</td>\n",
       "      <td>79.300000</td>\n",
       "      <td>2.190000</td>\n",
       "      <td>5.590000</td>\n",
       "      <td>8.960000</td>\n",
       "      <td>1213.770000</td>\n",
       "      <td>1.760000</td>\n",
       "      <td>2.960000</td>\n",
       "      <td>198.100000</td>\n",
       "    </tr>\n",
       "    <tr>\n",
       "      <th>75%</th>\n",
       "      <td>15.470000</td>\n",
       "      <td>994.740000</td>\n",
       "      <td>10.060000</td>\n",
       "      <td>89.500000</td>\n",
       "      <td>5.300000</td>\n",
       "      <td>7.800000</td>\n",
       "      <td>12.480000</td>\n",
       "      <td>1242.870000</td>\n",
       "      <td>2.860000</td>\n",
       "      <td>4.730000</td>\n",
       "      <td>234.200000</td>\n",
       "    </tr>\n",
       "    <tr>\n",
       "      <th>max</th>\n",
       "      <td>37.280000</td>\n",
       "      <td>1015.350000</td>\n",
       "      <td>23.110000</td>\n",
       "      <td>100.000000</td>\n",
       "      <td>46.010000</td>\n",
       "      <td>18.130000</td>\n",
       "      <td>28.820000</td>\n",
       "      <td>1393.540000</td>\n",
       "      <td>14.630000</td>\n",
       "      <td>23.500000</td>\n",
       "      <td>360.000000</td>\n",
       "    </tr>\n",
       "  </tbody>\n",
       "</table>\n",
       "</div>"
      ],
      "text/plain": [
       "       Temperature (degC)  Pressure (mbar)    Tdew (degC)         rh (%)  \\\n",
       "count       336440.000000    336440.000000  336440.000000  336440.000000   \n",
       "mean             9.446557       989.223403       4.950543      76.003139   \n",
       "std              8.426450         8.358900       6.731364      16.487523   \n",
       "min            -23.010000       913.600000     -25.010000      12.950000   \n",
       "25%              3.350000       984.210000       0.230000      65.190000   \n",
       "50%              9.420000       989.590000       5.210000      79.300000   \n",
       "75%             15.470000       994.740000      10.060000      89.500000   \n",
       "max             37.280000      1015.350000      23.110000     100.000000   \n",
       "\n",
       "        VPdef (mbar)      sh (g/kg)  H2OC (mmol/mol)   rho (g/m**3)  \\\n",
       "count  336440.000000  336440.000000    336440.000000  336440.000000   \n",
       "mean        4.043761       6.020227         9.636744    1216.093556   \n",
       "std         4.899227       2.655262         4.234012      39.984531   \n",
       "min         0.000000       0.500000         0.800000    1059.450000   \n",
       "25%         0.870000       3.920000         6.280000    1187.510000   \n",
       "50%         2.190000       5.590000         8.960000    1213.770000   \n",
       "75%         5.300000       7.800000        12.480000    1242.870000   \n",
       "max        46.010000      18.130000        28.820000    1393.540000   \n",
       "\n",
       "            wv (m/s)  max. wv (m/s)       wd (deg)  \n",
       "count  336440.000000  336440.000000  336440.000000  \n",
       "mean        1.624439       2.996377     174.745310  \n",
       "std        71.106856      73.198718      86.700237  \n",
       "min     -9999.000000   -9999.000000       0.000000  \n",
       "25%         0.990000       1.760000     124.800000  \n",
       "50%         1.760000       2.960000     198.100000  \n",
       "75%         2.860000       4.730000     234.200000  \n",
       "max        14.630000      23.500000     360.000000  "
      ]
     },
     "execution_count": 4,
     "metadata": {},
     "output_type": "execute_result"
    }
   ],
   "source": [
    "import statsmodels.api as sm\n",
    "from sklearn.model_selection import train_test_split\n",
    "from sklearn.linear_model import LinearRegression\n",
    "from sklearn.metrics import r2_score\n",
    "train_set, test_set = train_test_split(newdf, test_size=0.2, random_state=42)\n",
    "newdf1=train_set.copy()\n",
    "newdf1.describe()"
   ]
  },
  {
   "cell_type": "markdown",
   "metadata": {},
   "source": [
    "**Finding the correlations between columns**"
   ]
  },
  {
   "cell_type": "code",
   "execution_count": 5,
   "metadata": {},
   "outputs": [
    {
     "data": {
      "text/html": [
       "<div>\n",
       "<style scoped>\n",
       "    .dataframe tbody tr th:only-of-type {\n",
       "        vertical-align: middle;\n",
       "    }\n",
       "\n",
       "    .dataframe tbody tr th {\n",
       "        vertical-align: top;\n",
       "    }\n",
       "\n",
       "    .dataframe thead th {\n",
       "        text-align: right;\n",
       "    }\n",
       "</style>\n",
       "<table border=\"1\" class=\"dataframe\">\n",
       "  <thead>\n",
       "    <tr style=\"text-align: right;\">\n",
       "      <th></th>\n",
       "      <th>Temperature (degC)</th>\n",
       "      <th>Pressure (mbar)</th>\n",
       "      <th>Tdew (degC)</th>\n",
       "      <th>rh (%)</th>\n",
       "      <th>VPdef (mbar)</th>\n",
       "      <th>sh (g/kg)</th>\n",
       "      <th>H2OC (mmol/mol)</th>\n",
       "      <th>rho (g/m**3)</th>\n",
       "      <th>wv (m/s)</th>\n",
       "      <th>max. wv (m/s)</th>\n",
       "      <th>wd (deg)</th>\n",
       "    </tr>\n",
       "  </thead>\n",
       "  <tbody>\n",
       "    <tr>\n",
       "      <th>Temperature (degC)</th>\n",
       "      <td>1.000000</td>\n",
       "      <td>-0.045002</td>\n",
       "      <td>0.895582</td>\n",
       "      <td>-0.572855</td>\n",
       "      <td>0.761838</td>\n",
       "      <td>0.866649</td>\n",
       "      <td>0.867071</td>\n",
       "      <td>-0.963430</td>\n",
       "      <td>-0.005408</td>\n",
       "      <td>-0.003467</td>\n",
       "      <td>0.039231</td>\n",
       "    </tr>\n",
       "    <tr>\n",
       "      <th>Pressure (mbar)</th>\n",
       "      <td>-0.045002</td>\n",
       "      <td>1.000000</td>\n",
       "      <td>-0.066150</td>\n",
       "      <td>-0.017777</td>\n",
       "      <td>-0.003539</td>\n",
       "      <td>-0.069560</td>\n",
       "      <td>-0.069600</td>\n",
       "      <td>0.307215</td>\n",
       "      <td>-0.005393</td>\n",
       "      <td>-0.007446</td>\n",
       "      <td>-0.062870</td>\n",
       "    </tr>\n",
       "    <tr>\n",
       "      <th>Tdew (degC)</th>\n",
       "      <td>0.895582</td>\n",
       "      <td>-0.066150</td>\n",
       "      <td>1.000000</td>\n",
       "      <td>-0.156899</td>\n",
       "      <td>0.435663</td>\n",
       "      <td>0.967608</td>\n",
       "      <td>0.968054</td>\n",
       "      <td>-0.885064</td>\n",
       "      <td>-0.009284</td>\n",
       "      <td>-0.009516</td>\n",
       "      <td>0.050184</td>\n",
       "    </tr>\n",
       "    <tr>\n",
       "      <th>rh (%)</th>\n",
       "      <td>-0.572855</td>\n",
       "      <td>-0.017777</td>\n",
       "      <td>-0.156899</td>\n",
       "      <td>1.000000</td>\n",
       "      <td>-0.843937</td>\n",
       "      <td>-0.151157</td>\n",
       "      <td>-0.151286</td>\n",
       "      <td>0.514933</td>\n",
       "      <td>-0.004343</td>\n",
       "      <td>-0.009276</td>\n",
       "      <td>-0.016567</td>\n",
       "    </tr>\n",
       "    <tr>\n",
       "      <th>VPdef (mbar)</th>\n",
       "      <td>0.761838</td>\n",
       "      <td>-0.003539</td>\n",
       "      <td>0.435663</td>\n",
       "      <td>-0.843937</td>\n",
       "      <td>1.000000</td>\n",
       "      <td>0.448572</td>\n",
       "      <td>0.448620</td>\n",
       "      <td>-0.698517</td>\n",
       "      <td>0.001308</td>\n",
       "      <td>0.004843</td>\n",
       "      <td>-0.030520</td>\n",
       "    </tr>\n",
       "    <tr>\n",
       "      <th>sh (g/kg)</th>\n",
       "      <td>0.866649</td>\n",
       "      <td>-0.069560</td>\n",
       "      <td>0.967608</td>\n",
       "      <td>-0.151157</td>\n",
       "      <td>0.448572</td>\n",
       "      <td>1.000000</td>\n",
       "      <td>0.999997</td>\n",
       "      <td>-0.853285</td>\n",
       "      <td>-0.010079</td>\n",
       "      <td>-0.010601</td>\n",
       "      <td>0.019749</td>\n",
       "    </tr>\n",
       "    <tr>\n",
       "      <th>H2OC (mmol/mol)</th>\n",
       "      <td>0.867071</td>\n",
       "      <td>-0.069600</td>\n",
       "      <td>0.968054</td>\n",
       "      <td>-0.151286</td>\n",
       "      <td>0.448620</td>\n",
       "      <td>0.999997</td>\n",
       "      <td>1.000000</td>\n",
       "      <td>-0.853729</td>\n",
       "      <td>-0.010077</td>\n",
       "      <td>-0.010598</td>\n",
       "      <td>0.019983</td>\n",
       "    </tr>\n",
       "    <tr>\n",
       "      <th>rho (g/m**3)</th>\n",
       "      <td>-0.963430</td>\n",
       "      <td>0.307215</td>\n",
       "      <td>-0.885064</td>\n",
       "      <td>0.514933</td>\n",
       "      <td>-0.698517</td>\n",
       "      <td>-0.853285</td>\n",
       "      <td>-0.853729</td>\n",
       "      <td>1.000000</td>\n",
       "      <td>0.004003</td>\n",
       "      <td>0.001733</td>\n",
       "      <td>-0.058442</td>\n",
       "    </tr>\n",
       "    <tr>\n",
       "      <th>wv (m/s)</th>\n",
       "      <td>-0.005408</td>\n",
       "      <td>-0.005393</td>\n",
       "      <td>-0.009284</td>\n",
       "      <td>-0.004343</td>\n",
       "      <td>0.001308</td>\n",
       "      <td>-0.010079</td>\n",
       "      <td>-0.010077</td>\n",
       "      <td>0.004003</td>\n",
       "      <td>1.000000</td>\n",
       "      <td>0.971739</td>\n",
       "      <td>-0.016414</td>\n",
       "    </tr>\n",
       "    <tr>\n",
       "      <th>max. wv (m/s)</th>\n",
       "      <td>-0.003467</td>\n",
       "      <td>-0.007446</td>\n",
       "      <td>-0.009516</td>\n",
       "      <td>-0.009276</td>\n",
       "      <td>0.004843</td>\n",
       "      <td>-0.010601</td>\n",
       "      <td>-0.010598</td>\n",
       "      <td>0.001733</td>\n",
       "      <td>0.971739</td>\n",
       "      <td>1.000000</td>\n",
       "      <td>-0.015362</td>\n",
       "    </tr>\n",
       "    <tr>\n",
       "      <th>wd (deg)</th>\n",
       "      <td>0.039231</td>\n",
       "      <td>-0.062870</td>\n",
       "      <td>0.050184</td>\n",
       "      <td>-0.016567</td>\n",
       "      <td>-0.030520</td>\n",
       "      <td>0.019749</td>\n",
       "      <td>0.019983</td>\n",
       "      <td>-0.058442</td>\n",
       "      <td>-0.016414</td>\n",
       "      <td>-0.015362</td>\n",
       "      <td>1.000000</td>\n",
       "    </tr>\n",
       "  </tbody>\n",
       "</table>\n",
       "</div>"
      ],
      "text/plain": [
       "                    Temperature (degC)  Pressure (mbar)  Tdew (degC)  \\\n",
       "Temperature (degC)            1.000000        -0.045002     0.895582   \n",
       "Pressure (mbar)              -0.045002         1.000000    -0.066150   \n",
       "Tdew (degC)                   0.895582        -0.066150     1.000000   \n",
       "rh (%)                       -0.572855        -0.017777    -0.156899   \n",
       "VPdef (mbar)                  0.761838        -0.003539     0.435663   \n",
       "sh (g/kg)                     0.866649        -0.069560     0.967608   \n",
       "H2OC (mmol/mol)               0.867071        -0.069600     0.968054   \n",
       "rho (g/m**3)                 -0.963430         0.307215    -0.885064   \n",
       "wv (m/s)                     -0.005408        -0.005393    -0.009284   \n",
       "max. wv (m/s)                -0.003467        -0.007446    -0.009516   \n",
       "wd (deg)                      0.039231        -0.062870     0.050184   \n",
       "\n",
       "                      rh (%)  VPdef (mbar)  sh (g/kg)  H2OC (mmol/mol)  \\\n",
       "Temperature (degC) -0.572855      0.761838   0.866649         0.867071   \n",
       "Pressure (mbar)    -0.017777     -0.003539  -0.069560        -0.069600   \n",
       "Tdew (degC)        -0.156899      0.435663   0.967608         0.968054   \n",
       "rh (%)              1.000000     -0.843937  -0.151157        -0.151286   \n",
       "VPdef (mbar)       -0.843937      1.000000   0.448572         0.448620   \n",
       "sh (g/kg)          -0.151157      0.448572   1.000000         0.999997   \n",
       "H2OC (mmol/mol)    -0.151286      0.448620   0.999997         1.000000   \n",
       "rho (g/m**3)        0.514933     -0.698517  -0.853285        -0.853729   \n",
       "wv (m/s)           -0.004343      0.001308  -0.010079        -0.010077   \n",
       "max. wv (m/s)      -0.009276      0.004843  -0.010601        -0.010598   \n",
       "wd (deg)           -0.016567     -0.030520   0.019749         0.019983   \n",
       "\n",
       "                    rho (g/m**3)  wv (m/s)  max. wv (m/s)  wd (deg)  \n",
       "Temperature (degC)     -0.963430 -0.005408      -0.003467  0.039231  \n",
       "Pressure (mbar)         0.307215 -0.005393      -0.007446 -0.062870  \n",
       "Tdew (degC)            -0.885064 -0.009284      -0.009516  0.050184  \n",
       "rh (%)                  0.514933 -0.004343      -0.009276 -0.016567  \n",
       "VPdef (mbar)           -0.698517  0.001308       0.004843 -0.030520  \n",
       "sh (g/kg)              -0.853285 -0.010079      -0.010601  0.019749  \n",
       "H2OC (mmol/mol)        -0.853729 -0.010077      -0.010598  0.019983  \n",
       "rho (g/m**3)            1.000000  0.004003       0.001733 -0.058442  \n",
       "wv (m/s)                0.004003  1.000000       0.971739 -0.016414  \n",
       "max. wv (m/s)           0.001733  0.971739       1.000000 -0.015362  \n",
       "wd (deg)               -0.058442 -0.016414      -0.015362  1.000000  "
      ]
     },
     "execution_count": 5,
     "metadata": {},
     "output_type": "execute_result"
    }
   ],
   "source": [
    "newdf1.corr()"
   ]
  },
  {
   "cell_type": "code",
   "execution_count": 6,
   "metadata": {},
   "outputs": [
    {
     "data": {
      "text/plain": [
       "<matplotlib.axes._subplots.AxesSubplot at 0x219c361e508>"
      ]
     },
     "execution_count": 6,
     "metadata": {},
     "output_type": "execute_result"
    },
    {
     "data": {
      "image/png": "[encoded data removed]",
      "text/plain": [
       "<Figure size 432x288 with 1 Axes>"
      ]
     },
     "metadata": {
      "needs_background": "light"
     },
     "output_type": "display_data"
    }
   ],
   "source": [
    "newdf1.plot.scatter(x='Temperature (degC)',y='Pressure (mbar)')"
   ]
  },
  {
   "cell_type": "markdown",
   "metadata": {},
   "source": [
    "Poltting an Regression plot for us to visualize things"
   ]
  },
  {
   "cell_type": "code",
   "execution_count": 8,
   "metadata": {},
   "outputs": [
    {
     "data": {
      "text/plain": [
       "<seaborn.axisgrid.FacetGrid at 0x219c418ebc8>"
      ]
     },
     "execution_count": 8,
     "metadata": {},
     "output_type": "execute_result"
    },
    {
     "data": {
      "image/png": "[encoded data removed]",
      "text/plain": [
       "<Figure size 864x432 with 1 Axes>"
      ]
     },
     "metadata": {
      "needs_background": "light"
     },
     "output_type": "display_data"
    }
   ],
   "source": [
    "sns.lmplot('Temperature (degC)','Pressure (mbar)',data=newdf1,height=6, aspect = 2)"
   ]
  },
  {
   "cell_type": "markdown",
   "metadata": {},
   "source": [
    "Building our model by making some changes to our training set"
   ]
  },
  {
   "cell_type": "code",
   "execution_count": 9,
   "metadata": {},
   "outputs": [
    {
     "ename": "ValueError",
     "evalue": "could not convert string to float: '06.01.2016 06:30:00'",
     "output_type": "error",
     "traceback": [
      "\u001b[1;31m---------------------------------------------------------------------------\u001b[0m",
      "\u001b[1;31mValueError\u001b[0m                                Traceback (most recent call last)",
      "\u001b[1;32m<ipython-input-9-85288ef1bf49>\u001b[0m in \u001b[0;36m<module>\u001b[1;34m\u001b[0m\n\u001b[0;32m      3\u001b[0m \u001b[0mtrain_labels\u001b[0m\u001b[1;33m=\u001b[0m\u001b[0mnewdf1\u001b[0m\u001b[1;33m[\u001b[0m\u001b[1;34m\"Pressure (mbar)\"\u001b[0m\u001b[1;33m]\u001b[0m\u001b[1;33m\u001b[0m\u001b[1;33m\u001b[0m\u001b[0m\n\u001b[0;32m      4\u001b[0m \u001b[0mlin_reg\u001b[0m\u001b[1;33m=\u001b[0m\u001b[0mLinearRegression\u001b[0m\u001b[1;33m(\u001b[0m\u001b[1;33m)\u001b[0m\u001b[1;33m\u001b[0m\u001b[1;33m\u001b[0m\u001b[0m\n\u001b[1;32m----> 5\u001b[1;33m \u001b[0mlin_reg\u001b[0m\u001b[1;33m.\u001b[0m\u001b[0mfit\u001b[0m\u001b[1;33m(\u001b[0m\u001b[0mtrain_set\u001b[0m\u001b[1;33m,\u001b[0m \u001b[0mtrain_labels\u001b[0m\u001b[1;33m)\u001b[0m\u001b[1;33m\u001b[0m\u001b[1;33m\u001b[0m\u001b[0m\n\u001b[0m\u001b[0;32m      6\u001b[0m \u001b[0mprint\u001b[0m\u001b[1;33m(\u001b[0m\u001b[1;34m\"Coefficients: \"\u001b[0m\u001b[1;33m,\u001b[0m \u001b[0mlin_reg\u001b[0m\u001b[1;33m.\u001b[0m\u001b[0mcoef\u001b[0m\u001b[1;33m)\u001b[0m\u001b[1;33m\u001b[0m\u001b[1;33m\u001b[0m\u001b[0m\n\u001b[0;32m      7\u001b[0m \u001b[0mprint\u001b[0m\u001b[1;33m(\u001b[0m\u001b[1;34m\"Intercept: \"\u001b[0m\u001b[1;33m,\u001b[0m\u001b[0mlin_reg\u001b[0m\u001b[1;33m.\u001b[0m\u001b[0mintercept_\u001b[0m\u001b[1;33m)\u001b[0m\u001b[1;33m\u001b[0m\u001b[1;33m\u001b[0m\u001b[0m\n",
      "\u001b[1;32m~\\anaconda3\\lib\\site-packages\\sklearn\\linear_model\\_base.py\u001b[0m in \u001b[0;36mfit\u001b[1;34m(self, X, y, sample_weight)\u001b[0m\n\u001b[0;32m    490\u001b[0m         \u001b[0mn_jobs_\u001b[0m \u001b[1;33m=\u001b[0m \u001b[0mself\u001b[0m\u001b[1;33m.\u001b[0m\u001b[0mn_jobs\u001b[0m\u001b[1;33m\u001b[0m\u001b[1;33m\u001b[0m\u001b[0m\n\u001b[0;32m    491\u001b[0m         X, y = check_X_y(X, y, accept_sparse=['csr', 'csc', 'coo'],\n\u001b[1;32m--> 492\u001b[1;33m                          y_numeric=True, multi_output=True)\n\u001b[0m\u001b[0;32m    493\u001b[0m \u001b[1;33m\u001b[0m\u001b[0m\n\u001b[0;32m    494\u001b[0m         \u001b[1;32mif\u001b[0m \u001b[0msample_weight\u001b[0m \u001b[1;32mis\u001b[0m \u001b[1;32mnot\u001b[0m \u001b[1;32mNone\u001b[0m\u001b[1;33m:\u001b[0m\u001b[1;33m\u001b[0m\u001b[1;33m\u001b[0m\u001b[0m\n",
      "\u001b[1;32m~\\anaconda3\\lib\\site-packages\\sklearn\\utils\\validation.py\u001b[0m in \u001b[0;36mcheck_X_y\u001b[1;34m(X, y, accept_sparse, accept_large_sparse, dtype, order, copy, force_all_finite, ensure_2d, allow_nd, multi_output, ensure_min_samples, ensure_min_features, y_numeric, warn_on_dtype, estimator)\u001b[0m\n\u001b[0;32m    753\u001b[0m                     \u001b[0mensure_min_features\u001b[0m\u001b[1;33m=\u001b[0m\u001b[0mensure_min_features\u001b[0m\u001b[1;33m,\u001b[0m\u001b[1;33m\u001b[0m\u001b[1;33m\u001b[0m\u001b[0m\n\u001b[0;32m    754\u001b[0m                     \u001b[0mwarn_on_dtype\u001b[0m\u001b[1;33m=\u001b[0m\u001b[0mwarn_on_dtype\u001b[0m\u001b[1;33m,\u001b[0m\u001b[1;33m\u001b[0m\u001b[1;33m\u001b[0m\u001b[0m\n\u001b[1;32m--> 755\u001b[1;33m                     estimator=estimator)\n\u001b[0m\u001b[0;32m    756\u001b[0m     \u001b[1;32mif\u001b[0m \u001b[0mmulti_output\u001b[0m\u001b[1;33m:\u001b[0m\u001b[1;33m\u001b[0m\u001b[1;33m\u001b[0m\u001b[0m\n\u001b[0;32m    757\u001b[0m         y = check_array(y, 'csr', force_all_finite=True, ensure_2d=False,\n",
      "\u001b[1;32m~\\anaconda3\\lib\\site-packages\\sklearn\\utils\\validation.py\u001b[0m in \u001b[0;36mcheck_array\u001b[1;34m(array, accept_sparse, accept_large_sparse, dtype, order, copy, force_all_finite, ensure_2d, allow_nd, ensure_min_samples, ensure_min_features, warn_on_dtype, estimator)\u001b[0m\n\u001b[0;32m    529\u001b[0m                     \u001b[0marray\u001b[0m \u001b[1;33m=\u001b[0m \u001b[0marray\u001b[0m\u001b[1;33m.\u001b[0m\u001b[0mastype\u001b[0m\u001b[1;33m(\u001b[0m\u001b[0mdtype\u001b[0m\u001b[1;33m,\u001b[0m \u001b[0mcasting\u001b[0m\u001b[1;33m=\u001b[0m\u001b[1;34m\"unsafe\"\u001b[0m\u001b[1;33m,\u001b[0m \u001b[0mcopy\u001b[0m\u001b[1;33m=\u001b[0m\u001b[1;32mFalse\u001b[0m\u001b[1;33m)\u001b[0m\u001b[1;33m\u001b[0m\u001b[1;33m\u001b[0m\u001b[0m\n\u001b[0;32m    530\u001b[0m                 \u001b[1;32melse\u001b[0m\u001b[1;33m:\u001b[0m\u001b[1;33m\u001b[0m\u001b[1;33m\u001b[0m\u001b[0m\n\u001b[1;32m--> 531\u001b[1;33m                     \u001b[0marray\u001b[0m \u001b[1;33m=\u001b[0m \u001b[0mnp\u001b[0m\u001b[1;33m.\u001b[0m\u001b[0masarray\u001b[0m\u001b[1;33m(\u001b[0m\u001b[0marray\u001b[0m\u001b[1;33m,\u001b[0m \u001b[0morder\u001b[0m\u001b[1;33m=\u001b[0m\u001b[0morder\u001b[0m\u001b[1;33m,\u001b[0m \u001b[0mdtype\u001b[0m\u001b[1;33m=\u001b[0m\u001b[0mdtype\u001b[0m\u001b[1;33m)\u001b[0m\u001b[1;33m\u001b[0m\u001b[1;33m\u001b[0m\u001b[0m\n\u001b[0m\u001b[0;32m    532\u001b[0m             \u001b[1;32mexcept\u001b[0m \u001b[0mComplexWarning\u001b[0m\u001b[1;33m:\u001b[0m\u001b[1;33m\u001b[0m\u001b[1;33m\u001b[0m\u001b[0m\n\u001b[0;32m    533\u001b[0m                 raise ValueError(\"Complex data not supported\\n\"\n",
      "\u001b[1;32m~\\anaconda3\\lib\\site-packages\\numpy\\core\\_asarray.py\u001b[0m in \u001b[0;36masarray\u001b[1;34m(a, dtype, order)\u001b[0m\n\u001b[0;32m     83\u001b[0m \u001b[1;33m\u001b[0m\u001b[0m\n\u001b[0;32m     84\u001b[0m     \"\"\"\n\u001b[1;32m---> 85\u001b[1;33m     \u001b[1;32mreturn\u001b[0m \u001b[0marray\u001b[0m\u001b[1;33m(\u001b[0m\u001b[0ma\u001b[0m\u001b[1;33m,\u001b[0m \u001b[0mdtype\u001b[0m\u001b[1;33m,\u001b[0m \u001b[0mcopy\u001b[0m\u001b[1;33m=\u001b[0m\u001b[1;32mFalse\u001b[0m\u001b[1;33m,\u001b[0m \u001b[0morder\u001b[0m\u001b[1;33m=\u001b[0m\u001b[0morder\u001b[0m\u001b[1;33m)\u001b[0m\u001b[1;33m\u001b[0m\u001b[1;33m\u001b[0m\u001b[0m\n\u001b[0m\u001b[0;32m     86\u001b[0m \u001b[1;33m\u001b[0m\u001b[0m\n\u001b[0;32m     87\u001b[0m \u001b[1;33m\u001b[0m\u001b[0m\n",
      "\u001b[1;31mValueError\u001b[0m: could not convert string to float: '06.01.2016 06:30:00'"
     ]
    }
   ],
   "source": [
    "train_set_full=train_set.copy()\n",
    "train_set=train_set.drop([\"Pressure (mbar)\"],axis=1)\n",
    "train_labels=newdf1[\"Pressure (mbar)\"]\n",
    "lin_reg=LinearRegression()\n",
    "lin_reg.fit(train_set, train_labels)\n",
    "print(\"Coefficients: \", lin_reg.coef)\n",
    "print(\"Intercept: \",lin_reg.intercept_)"
   ]
  },
  {
   "cell_type": "markdown",
   "metadata": {},
   "source": [
    "# <font color = orange>2.HeatMap for the Diagonal Matrix</font>"
   ]
  },
  {
   "cell_type": "code",
   "execution_count": 11,
   "metadata": {},
   "outputs": [
    {
     "data": {
      "text/plain": [
       "<matplotlib.axes._subplots.AxesSubplot at 0x219c47efd88>"
      ]
     },
     "execution_count": 11,
     "metadata": {},
     "output_type": "execute_result"
    },
    {
     "data": {
      "image/png": "[encoded data removed]",
      "text/plain": [
       "<Figure size 432x288 with 2 Axes>"
      ]
     },
     "metadata": {
      "needs_background": "light"
     },
     "output_type": "display_data"
    }
   ],
   "source": [
    "corrmat = newdf.corr()\n",
    "sns.heatmap(corrmat, vmax = .9, square = True)"
   ]
  },
  {
   "cell_type": "markdown",
   "metadata": {},
   "source": [
    "# <font color=Orange>3.Multiple Variables with Scatter Plot </font>"
   ]
  },
  {
   "cell_type": "code",
   "execution_count": 12,
   "metadata": {
    "scrolled": true
   },
   "outputs": [
    {
     "ename": "SyntaxError",
     "evalue": "invalid syntax (<ipython-input-12-f810f6fcff1a>, line 4)",
     "output_type": "error",
     "traceback": [
      "\u001b[1;36m  File \u001b[1;32m\"<ipython-input-12-f810f6fcff1a>\"\u001b[1;36m, line \u001b[1;32m4\u001b[0m\n\u001b[1;33m    sp=sns.pairplot(newdf[cols],size=1.8,aspect=1.8,plot_kws=dict(edgecolor='K',linewidth=0.5)diag_kind='kde',diag_kws=dict(shade=True))\u001b[0m\n\u001b[1;37m                                                                                                      ^\u001b[0m\n\u001b[1;31mSyntaxError\u001b[0m\u001b[1;31m:\u001b[0m invalid syntax\n"
     ]
    }
   ],
   "source": [
    "from mpl_toolkits.mplot3d import Axes3D\n",
    "import matplotlib as mpl\n",
    "cols=['Temperature (degC)','Pressure (mbar)','Tdew (degC)','rh (%)']\n",
    "sp=sns.pairplot(newdf[cols],size=1.8,aspect=1.8,plot_kws=dict(edgecolor='K',linewidth=0.5)diag_kind='kde',diag_kws=dict(shade=True))\n",
    "fig=sp.fig\n",
    "fig.subplots_adjust(top=0.93,wspace=0.3)"
   ]
  },
  {
   "cell_type": "code",
   "execution_count": null,
   "metadata": {},
   "outputs": [],
   "source": []
  }
 ],
 "metadata": {
  "kernelspec": {
   "display_name": "Python 3",
   "language": "python",
   "name": "python3"
  },
  "language_info": {
   "codemirror_mode": {
    "name": "ipython",
    "version": 3
   },
   "file_extension": ".py",
   "mimetype": "text/x-python",
   "name": "python",
   "nbconvert_exporter": "python",
   "pygments_lexer": "ipython3",
   "version": "3.7.6"
  }
 },
 "nbformat": 4,
 "nbformat_minor": 4
}
